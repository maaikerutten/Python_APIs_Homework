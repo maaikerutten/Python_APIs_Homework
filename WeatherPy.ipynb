{
 "cells": [
  {
   "cell_type": "markdown",
   "metadata": {},
   "source": [
    "# Homework Assignment Python APIs. \n",
    "# WeatherPy\n"
   ]
  },
  {
   "cell_type": "code",
   "execution_count": 21,
   "metadata": {
    "scrolled": true
   },
   "outputs": [],
   "source": [
    "# Dependencies and Setup\n",
    "import matplotlib.pyplot as plt\n",
    "import pandas as pd\n",
    "import numpy as np\n",
    "import requests\n",
    "import time\n",
    "import random\n",
    "import json\n",
    "import pytemperature\n",
    "\n",
    "# Import API key\n",
    "import api_keys\n",
    "api_key = \"84a12051ef8d9ab784bd6f8864a8d6c2\"\n",
    "\n",
    "# Incorporated citipy to determine city based on latitude and longitude\n",
    "from citipy import citipy\n",
    "\n",
    "# Output File (CSV)\n",
    "output_data_file = \"output_data/cities.csv\"\n",
    "\n",
    "# Range of latitudes and longitudes\n",
    "lat_range = (-90, 90)\n",
    "lng_range = (-180, 180)"
   ]
  },
  {
   "cell_type": "markdown",
   "metadata": {},
   "source": [
    "## Generate Cities List"
   ]
  },
  {
   "cell_type": "code",
   "execution_count": 22,
   "metadata": {},
   "outputs": [
    {
     "data": {
      "text/plain": [
       "599"
      ]
     },
     "execution_count": 22,
     "metadata": {},
     "output_type": "execute_result"
    }
   ],
   "source": [
    "# List for holding lat_lngs and cities\n",
    "lat_lngs = []\n",
    "cities = []\n",
    "\n",
    "# Create a set of random lat and lng combinations\n",
    "lats = np.random.uniform(low=-90.000, high=90.000, size=1500)\n",
    "lngs = np.random.uniform(low=-180.000, high=180.000, size=1500)\n",
    "lat_lngs = zip(lats, lngs)\n",
    "\n",
    "# Identify nearest city for each lat, lng combination\n",
    "for lat_lng in lat_lngs:\n",
    "    city = citipy.nearest_city(lat_lng[0], lat_lng[1]).city_name\n",
    "    \n",
    "    # If the city is unique, then add it to a our cities list\n",
    "    if city not in cities:\n",
    "        cities.append(city)\n",
    "\n",
    "# Print the city count to confirm sufficient count\n",
    "len(cities)"
   ]
  },
  {
   "cell_type": "markdown",
   "metadata": {},
   "source": [
    "### Perform API Calls\n",
    "* Perform a weather check on each city using a series of successive API calls.\n",
    "* Include a print log of each city as it'sbeing processed (with the city number and city name).\n"
   ]
  },
  {
   "cell_type": "code",
   "execution_count": 23,
   "metadata": {},
   "outputs": [
    {
     "name": "stdout",
     "output_type": "stream",
     "text": [
      "Beginning Data Retrieval \n",
      "---------------------------------\n",
      "Processing Record 0 | tivaouane\n",
      "Processing Record 1 | cape town\n",
      "Processing Record 2 | ushuaia\n",
      "Processing Record 3 | beringovskiy\n",
      "Processing Record 4 | geraldton\n",
      "------------------------------------\n",
      "Data Retrieval Complete\n"
     ]
    }
   ],
   "source": [
    "Columnnames = [\"City\", \"Country\", \"Temperature (F)\", \"Latitude\", \"Longitude\", \"Humidity (%)\", \"Cloudiness (%)\", \"Wind Speed (mph)\"]\n",
    "\n",
    "Selected_Cities_df = pd.DataFrame(columns=Columnnames)\n",
    "\n",
    "Selected_Cities_df.head\n",
    "\n",
    "print(\"Beginning Data Retrieval \\n---------------------------------\")\n",
    "for i in range(5): \n",
    "    print(\"Processing Record \" + str(i) + \" | \" + cities[i])\n",
    "    url = \"http://api.openweathermap.org/data/2.5/weather?units=imperial&q=\"\n",
    "    combi_url = url + str(cities[i])+str(\"&appid=\" + api_key)\n",
    "    response = requests.get(combi_url)\n",
    "    if response.status_code == 404:\n",
    "        print(\"City not found, Skipping...\")\n",
    "    else:\n",
    "        data = response.json()\n",
    "        Selected_Cities_df = Selected_Cities_df.append({'City':data[\"name\"],\n",
    "                                                    'Country':data[\"sys\"]['country'], \n",
    "                                                    'Temperature (F)':data[\"main\"][\"temp\"],\n",
    "                                                    'Latitude':data[\"coord\"][\"lat\"],\n",
    "                                                    'Longitude':data[\"coord\"][\"lon\"],\n",
    "                                                    'Humidity (%)':data[\"main\"][\"humidity\"],\n",
    "                                                    'Cloudiness (%)':data[\"clouds\"][\"all\"],\n",
    "                                                    'Wind Speed (mph)':data[\"wind\"][\"speed\"]},\n",
    "                                                    ignore_index=True)\n",
    "    \n",
    "print(\"------------------------------------\\nData Retrieval Complete\")   "
   ]
  },
  {
   "cell_type": "code",
   "execution_count": 24,
   "metadata": {},
   "outputs": [
    {
     "data": {
      "text/plain": [
       "City                5\n",
       "Country             5\n",
       "Temperature (F)     5\n",
       "Latitude            5\n",
       "Longitude           5\n",
       "Humidity (%)        5\n",
       "Cloudiness (%)      5\n",
       "Wind Speed (mph)    5\n",
       "dtype: int64"
      ]
     },
     "execution_count": 24,
     "metadata": {},
     "output_type": "execute_result"
    }
   ],
   "source": [
    "Selected_Cities_df.count()"
   ]
  },
  {
   "cell_type": "code",
   "execution_count": 25,
   "metadata": {},
   "outputs": [
    {
     "data": {
      "text/html": [
       "<div>\n",
       "<style scoped>\n",
       "    .dataframe tbody tr th:only-of-type {\n",
       "        vertical-align: middle;\n",
       "    }\n",
       "\n",
       "    .dataframe tbody tr th {\n",
       "        vertical-align: top;\n",
       "    }\n",
       "\n",
       "    .dataframe thead th {\n",
       "        text-align: right;\n",
       "    }\n",
       "</style>\n",
       "<table border=\"1\" class=\"dataframe\">\n",
       "  <thead>\n",
       "    <tr style=\"text-align: right;\">\n",
       "      <th></th>\n",
       "      <th>City</th>\n",
       "      <th>Country</th>\n",
       "      <th>Temperature (F)</th>\n",
       "      <th>Latitude</th>\n",
       "      <th>Longitude</th>\n",
       "      <th>Humidity (%)</th>\n",
       "      <th>Cloudiness (%)</th>\n",
       "      <th>Wind Speed (mph)</th>\n",
       "    </tr>\n",
       "  </thead>\n",
       "  <tbody>\n",
       "    <tr>\n",
       "      <th>0</th>\n",
       "      <td>Tivaouane</td>\n",
       "      <td>SN</td>\n",
       "      <td>66.20</td>\n",
       "      <td>14.95</td>\n",
       "      <td>-16.81</td>\n",
       "      <td>52</td>\n",
       "      <td>12</td>\n",
       "      <td>14.99</td>\n",
       "    </tr>\n",
       "    <tr>\n",
       "      <th>1</th>\n",
       "      <td>Cape Town</td>\n",
       "      <td>ZA</td>\n",
       "      <td>68.00</td>\n",
       "      <td>-33.93</td>\n",
       "      <td>18.42</td>\n",
       "      <td>68</td>\n",
       "      <td>75</td>\n",
       "      <td>10.29</td>\n",
       "    </tr>\n",
       "    <tr>\n",
       "      <th>2</th>\n",
       "      <td>Ushuaia</td>\n",
       "      <td>AR</td>\n",
       "      <td>48.20</td>\n",
       "      <td>-54.81</td>\n",
       "      <td>-68.31</td>\n",
       "      <td>61</td>\n",
       "      <td>75</td>\n",
       "      <td>28.86</td>\n",
       "    </tr>\n",
       "    <tr>\n",
       "      <th>3</th>\n",
       "      <td>Beringovskiy</td>\n",
       "      <td>RU</td>\n",
       "      <td>-13.65</td>\n",
       "      <td>63.05</td>\n",
       "      <td>179.32</td>\n",
       "      <td>100</td>\n",
       "      <td>0</td>\n",
       "      <td>1.05</td>\n",
       "    </tr>\n",
       "    <tr>\n",
       "      <th>4</th>\n",
       "      <td>Geraldton</td>\n",
       "      <td>CA</td>\n",
       "      <td>-5.81</td>\n",
       "      <td>49.72</td>\n",
       "      <td>-86.95</td>\n",
       "      <td>70</td>\n",
       "      <td>90</td>\n",
       "      <td>10.29</td>\n",
       "    </tr>\n",
       "  </tbody>\n",
       "</table>\n",
       "</div>"
      ],
      "text/plain": [
       "           City Country  Temperature (F)  Latitude  Longitude Humidity (%)  \\\n",
       "0     Tivaouane      SN            66.20     14.95     -16.81           52   \n",
       "1     Cape Town      ZA            68.00    -33.93      18.42           68   \n",
       "2       Ushuaia      AR            48.20    -54.81     -68.31           61   \n",
       "3  Beringovskiy      RU           -13.65     63.05     179.32          100   \n",
       "4     Geraldton      CA            -5.81     49.72     -86.95           70   \n",
       "\n",
       "  Cloudiness (%)  Wind Speed (mph)  \n",
       "0             12             14.99  \n",
       "1             75             10.29  \n",
       "2             75             28.86  \n",
       "3              0              1.05  \n",
       "4             90             10.29  "
      ]
     },
     "execution_count": 25,
     "metadata": {},
     "output_type": "execute_result"
    }
   ],
   "source": [
    "Selected_Cities_df"
   ]
  },
  {
   "cell_type": "code",
   "execution_count": null,
   "metadata": {},
   "outputs": [],
   "source": []
  },
  {
   "cell_type": "markdown",
   "metadata": {},
   "source": [
    "### Convert Raw Data to DataFrame\n",
    "* Export the city data into a .csv.\n",
    "* Display the DataFrame"
   ]
  },
  {
   "cell_type": "code",
   "execution_count": 27,
   "metadata": {},
   "outputs": [],
   "source": [
    "Selected_Cities_df.to_csv(output_data_file)"
   ]
  },
  {
   "cell_type": "code",
   "execution_count": 28,
   "metadata": {},
   "outputs": [
    {
     "data": {
      "text/html": [
       "<div>\n",
       "<style scoped>\n",
       "    .dataframe tbody tr th:only-of-type {\n",
       "        vertical-align: middle;\n",
       "    }\n",
       "\n",
       "    .dataframe tbody tr th {\n",
       "        vertical-align: top;\n",
       "    }\n",
       "\n",
       "    .dataframe thead th {\n",
       "        text-align: right;\n",
       "    }\n",
       "</style>\n",
       "<table border=\"1\" class=\"dataframe\">\n",
       "  <thead>\n",
       "    <tr style=\"text-align: right;\">\n",
       "      <th></th>\n",
       "      <th>City</th>\n",
       "      <th>Country</th>\n",
       "      <th>Temperature (F)</th>\n",
       "      <th>Latitude</th>\n",
       "      <th>Longitude</th>\n",
       "      <th>Humidity (%)</th>\n",
       "      <th>Cloudiness (%)</th>\n",
       "      <th>Wind Speed (mph)</th>\n",
       "    </tr>\n",
       "  </thead>\n",
       "  <tbody>\n",
       "    <tr>\n",
       "      <th>0</th>\n",
       "      <td>Tivaouane</td>\n",
       "      <td>SN</td>\n",
       "      <td>66.20</td>\n",
       "      <td>14.95</td>\n",
       "      <td>-16.81</td>\n",
       "      <td>52</td>\n",
       "      <td>12</td>\n",
       "      <td>14.99</td>\n",
       "    </tr>\n",
       "    <tr>\n",
       "      <th>1</th>\n",
       "      <td>Cape Town</td>\n",
       "      <td>ZA</td>\n",
       "      <td>68.00</td>\n",
       "      <td>-33.93</td>\n",
       "      <td>18.42</td>\n",
       "      <td>68</td>\n",
       "      <td>75</td>\n",
       "      <td>10.29</td>\n",
       "    </tr>\n",
       "    <tr>\n",
       "      <th>2</th>\n",
       "      <td>Ushuaia</td>\n",
       "      <td>AR</td>\n",
       "      <td>48.20</td>\n",
       "      <td>-54.81</td>\n",
       "      <td>-68.31</td>\n",
       "      <td>61</td>\n",
       "      <td>75</td>\n",
       "      <td>28.86</td>\n",
       "    </tr>\n",
       "    <tr>\n",
       "      <th>3</th>\n",
       "      <td>Beringovskiy</td>\n",
       "      <td>RU</td>\n",
       "      <td>-13.65</td>\n",
       "      <td>63.05</td>\n",
       "      <td>179.32</td>\n",
       "      <td>100</td>\n",
       "      <td>0</td>\n",
       "      <td>1.05</td>\n",
       "    </tr>\n",
       "    <tr>\n",
       "      <th>4</th>\n",
       "      <td>Geraldton</td>\n",
       "      <td>CA</td>\n",
       "      <td>-5.81</td>\n",
       "      <td>49.72</td>\n",
       "      <td>-86.95</td>\n",
       "      <td>70</td>\n",
       "      <td>90</td>\n",
       "      <td>10.29</td>\n",
       "    </tr>\n",
       "  </tbody>\n",
       "</table>\n",
       "</div>"
      ],
      "text/plain": [
       "           City Country  Temperature (F)  Latitude  Longitude Humidity (%)  \\\n",
       "0     Tivaouane      SN            66.20     14.95     -16.81           52   \n",
       "1     Cape Town      ZA            68.00    -33.93      18.42           68   \n",
       "2       Ushuaia      AR            48.20    -54.81     -68.31           61   \n",
       "3  Beringovskiy      RU           -13.65     63.05     179.32          100   \n",
       "4     Geraldton      CA            -5.81     49.72     -86.95           70   \n",
       "\n",
       "  Cloudiness (%)  Wind Speed (mph)  \n",
       "0             12             14.99  \n",
       "1             75             10.29  \n",
       "2             75             28.86  \n",
       "3              0              1.05  \n",
       "4             90             10.29  "
      ]
     },
     "execution_count": 28,
     "metadata": {},
     "output_type": "execute_result"
    }
   ],
   "source": [
    "Selected_Cities_df"
   ]
  },
  {
   "cell_type": "code",
   "execution_count": null,
   "metadata": {},
   "outputs": [],
   "source": []
  },
  {
   "cell_type": "markdown",
   "metadata": {},
   "source": [
    "### Plotting the Data\n",
    "* Use proper labeling of the plots using plot titles (including date of analysis) and axes labels.\n",
    "* Save the plotted figures as .pngs."
   ]
  },
  {
   "cell_type": "markdown",
   "metadata": {},
   "source": [
    "#### Latitude vs. Temperature Plot"
   ]
  },
  {
   "cell_type": "code",
   "execution_count": 36,
   "metadata": {},
   "outputs": [
    {
     "data": {
      "image/png": "[encoded data removed]",
      "text/plain": [
       "<Figure size 576x396 with 1 Axes>"
      ]
     },
     "metadata": {},
     "output_type": "display_data"
    }
   ],
   "source": [
    "plt.scatter(Selected_Cities_df[\"Latitude\"],\n",
    "           Selected_Cities_df[\"Temperature (F)\"],\n",
    "           edgecolor=\"black\", linewidths=1, marker=\"o\",\n",
    "           facecolors=\"blue\", alpha=0.8, label=\"City\")\n",
    "\n",
    "plt.style.use('seaborn-darkgrid')\n",
    "plt.title(f\"City Latitude vs. Max Temperature  1/17/2019\")\n",
    "plt.ylabel(\"Max Temperatre (F)\")\n",
    "plt.xlabel(\"Latitude\")\n",
    "plt.grid(True)\n",
    "plt.xlim([-80,100])\n",
    "plt.ylim([-60,120])\n",
    "\n",
    "plt.savefig(\"output_data/Latitude_Temperature.png\")\n",
    "\n",
    "plt.show()"
   ]
  },
  {
   "cell_type": "markdown",
   "metadata": {},
   "source": [
    "#### Latitude vs. Humidity Plot"
   ]
  },
  {
   "cell_type": "code",
   "execution_count": 37,
   "metadata": {},
   "outputs": [
    {
     "data": {
      "image/png": "[encoded data removed]",
      "text/plain": [
       "<Figure size 576x396 with 1 Axes>"
      ]
     },
     "metadata": {},
     "output_type": "display_data"
    }
   ],
   "source": [
    "plt.scatter(Selected_Cities_df[\"Latitude\"],\n",
    "           Selected_Cities_df[\"Humidity (%)\"],\n",
    "           edgecolor=\"black\", linewidths=1, marker=\"o\",\n",
    "           facecolors=\"blue\", alpha=0.8, label=\"City\")\n",
    "\n",
    "plt.style.use('seaborn-darkgrid')\n",
    "plt.title(f\"City Latitude vs.Humidity 1/17/2019\")\n",
    "plt.ylabel(\"Humidity (%)\")\n",
    "plt.xlabel(\"Latitude\")\n",
    "plt.grid(True)\n",
    "plt.xlim([-80,100])\n",
    "plt.ylim([-60,120])\n",
    "\n",
    "plt.savefig(\"output_data/Latitude_Humidity.png\")\n",
    "\n",
    "plt.show()"
   ]
  },
  {
   "cell_type": "markdown",
   "metadata": {},
   "source": [
    "#### Latitude vs. Cloudiness Plot"
   ]
  },
  {
   "cell_type": "code",
   "execution_count": 38,
   "metadata": {},
   "outputs": [
    {
     "data": {
      "image/png": "[encoded data removed]",
      "text/plain": [
       "<Figure size 576x396 with 1 Axes>"
      ]
     },
     "metadata": {},
     "output_type": "display_data"
    }
   ],
   "source": [
    "plt.scatter(Selected_Cities_df[\"Latitude\"],\n",
    "           Selected_Cities_df[\"Cloudiness (%)\"],\n",
    "           edgecolor=\"black\", linewidths=1, marker=\"o\",\n",
    "           facecolors=\"blue\", alpha=0.8, label=\"City\")\n",
    "\n",
    "plt.style.use('seaborn-darkgrid')\n",
    "plt.title(f\"City Laditude vs Cloudiness 1/17/2019\")\n",
    "plt.ylabel(\"Cloudiness (%)\")\n",
    "plt.xlabel(\"Latitude\")\n",
    "plt.grid(True)\n",
    "plt.xlim([-80,100])\n",
    "plt.ylim([-60,120])\n",
    "\n",
    "plt.savefig(\"output_data/Latitude_Cloudiness.png\")\n",
    "\n",
    "plt.show()"
   ]
  },
  {
   "cell_type": "markdown",
   "metadata": {},
   "source": [
    "#### Latitude vs. Wind Speed Plot"
   ]
  },
  {
   "cell_type": "code",
   "execution_count": 39,
   "metadata": {},
   "outputs": [
    {
     "data": {
      "image/png": "[encoded data removed]",
      "text/plain": [
       "<Figure size 576x396 with 1 Axes>"
      ]
     },
     "metadata": {},
     "output_type": "display_data"
    }
   ],
   "source": [
    "plt.scatter(Selected_Cities_df[\"Latitude\"],\n",
    "           Selected_Cities_df[\"Wind Speed (mph)\"],\n",
    "           edgecolor=\"black\", linewidths=1, marker=\"o\",\n",
    "           facecolors=\"blue\", alpha=0.8, label=\"City\")\n",
    "\n",
    "plt.style.use('seaborn-darkgrid')\n",
    "plt.title(f\"City Laditude vs Wind Speed 1/17/2019\")\n",
    "plt.ylabel(\"Wind Speed (mph)\")\n",
    "plt.xlabel(\"Latitude\")\n",
    "plt.grid(True)\n",
    "plt.xlim([-80,100])\n",
    "plt.ylim([-60,120])\n",
    "\n",
    "plt.savefig(\"output_data/Latitude_WindSpeed.png\")\n",
    "\n",
    "plt.show()"
   ]
  },
  {
   "cell_type": "code",
   "execution_count": null,
   "metadata": {},
   "outputs": [],
   "source": [
    "###!!!! WRITTEN DESCRIPTION OF 3 OBSERVABLE TRENDS, bovenaan opdracht zetten evt?\n",
    "----\n",
    "### Analysis\n",
    "* As expected, the weather becomes significantly warmer as one approaches the equator (0 Deg. Latitude). More interestingly, however, is the fact that the southern hemisphere tends to be warmer this time of year than the northern hemisphere. This may be due to the tilt of the earth.\n",
    "* There is no strong relationship between latitude and cloudiness. However, it is interesting to see that a strong band of cities sits at 0, 80, and 100% cloudiness.\n",
    "* There is no strong relationship between latitude and wind speed. However, in northern hemispheres there is a flurry of cities with over 20 mph of wind."
   ]
  }
 ],
 "metadata": {
  "anaconda-cloud": {},
  "kernelspec": {
   "display_name": "Python [conda env:root]",
   "language": "python",
   "name": "conda-root-py"
  },
  "language_info": {
   "codemirror_mode": {
    "name": "ipython",
    "version": 3
   },
   "file_extension": ".py",
   "mimetype": "text/x-python",
   "name": "python",
   "nbconvert_exporter": "python",
   "pygments_lexer": "ipython3",
   "version": "3.7.0"
  }
 },
 "nbformat": 4,
 "nbformat_minor": 2
}
